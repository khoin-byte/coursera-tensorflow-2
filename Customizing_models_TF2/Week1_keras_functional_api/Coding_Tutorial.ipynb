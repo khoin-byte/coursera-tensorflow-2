{
 "cells": [
  {
   "cell_type": "code",
   "execution_count": 1,
   "metadata": {
    "scrolled": false
   },
   "outputs": [
    {
     "name": "stdout",
     "output_type": "stream",
     "text": [
      "2.0.0\n"
     ]
    }
   ],
   "source": [
    "import tensorflow as tf\n",
    "print(tf.__version__)"
   ]
  },
  {
   "cell_type": "markdown",
   "metadata": {},
   "source": [
    "# The Keras functional API"
   ]
  },
  {
   "cell_type": "markdown",
   "metadata": {},
   "source": [
    " ## Coding tutorials\n",
    " #### [1. Multiple inputs and outputs](#coding_tutorial_1)\n",
    " #### [2. Tensors and Variables](#coding_tutorial_2)\n",
    " #### [3. Accessing model layers](#coding_tutorial_3)\n",
    " #### [4. Freezing layers](#coding_tutorial_4)"
   ]
  },
  {
   "cell_type": "markdown",
   "metadata": {},
   "source": [
    "***\n",
    "<a id=\"coding_tutorial_1\"></a>\n",
    "## Multiple inputs and outputs"
   ]
  },
  {
   "cell_type": "code",
   "execution_count": 2,
   "metadata": {
    "scrolled": false
   },
   "outputs": [],
   "source": [
    "import numpy as np\n",
    "import pandas as pd\n",
    "import matplotlib.pyplot as plt\n",
    "%matplotlib inline"
   ]
  },
  {
   "cell_type": "markdown",
   "metadata": {},
   "source": [
    "#### Load the acute inflammations dataset\n",
    "\n",
    "The `acute inflammations` was created by a medical expert as a data set to test the expert system, which will perform the presumptive diagnosis of two diseases of the urinary system. You can find out more about the dataset [here](https://archive.ics.uci.edu/ml/datasets/Acute+Inflammations).\n",
    "\n",
    "Attribute information:\n",
    "\n",
    "Inputs:\n",
    "- Temperature of patient : 35C-42C\n",
    "- Occurrence of nausea : yes/no\n",
    "- Lumbar pain : yes/no\n",
    "- Urine pushing (continuous need for urination) : yes/no\n",
    "- Micturition pains : yes/no\n",
    "- Burning of urethra, itch, swelling of urethra outlet : yes/no\n",
    "\n",
    "Outputs:\n",
    "- decision 1: Inflammation of urinary bladder : yes/no\n",
    "- decision 2: Nephritis of renal pelvis origin : yes/no"
   ]
  },
  {
   "cell_type": "markdown",
   "metadata": {},
   "source": [
    "#### Load the data"
   ]
  },
  {
   "cell_type": "code",
   "execution_count": 55,
   "metadata": {
    "scrolled": false
   },
   "outputs": [
    {
     "data": {
      "text/plain": [
       "(120, 8)"
      ]
     },
     "execution_count": 55,
     "metadata": {},
     "output_type": "execute_result"
    }
   ],
   "source": [
    "# Load the dataset\n",
    "\n",
    "from sklearn.model_selection import train_test_split\n",
    "\n",
    "pd_dat = pd.read_csv('data/diagnosis.csv')\n",
    "dataset = pd_dat.values\n",
    "dataset.shape"
   ]
  },
  {
   "cell_type": "code",
   "execution_count": 56,
   "metadata": {
    "scrolled": false
   },
   "outputs": [
    {
     "data": {
      "text/plain": [
       "(6, 80)"
      ]
     },
     "execution_count": 56,
     "metadata": {},
     "output_type": "execute_result"
    }
   ],
   "source": [
    "# Build train and test data splits\n",
    "\n",
    "X_train, X_test, Y_train, Y_test = train_test_split(dataset[:,:6], dataset[:,6:], test_size=0.33)\n",
    "np.transpose(X_train).shape"
   ]
  },
  {
   "cell_type": "code",
   "execution_count": 57,
   "metadata": {
    "scrolled": false
   },
   "outputs": [],
   "source": [
    "# Assign training and testing inputs/outputs\n",
    "# splitting each feature and transposing.\n",
    "temp_train, nocc_train, lumbp_train, up_train, mict_train, bis_train = np.transpose(X_train)\n",
    "temp_test, nocc_test, lumbp_test, up_test, mict_test, bis_test = np.transpose(X_test)\n",
    "\n",
    "inflam_train, nephr_train = Y_train[:, 0], Y_train[:, 1]\n",
    "inflam_test, nephr_test = Y_test[:, 0], Y_test[:, 1]"
   ]
  },
  {
   "cell_type": "markdown",
   "metadata": {},
   "source": [
    "#### Build the model"
   ]
  },
  {
   "cell_type": "code",
   "execution_count": 58,
   "metadata": {
    "scrolled": false
   },
   "outputs": [],
   "source": [
    "# Build the input layers\n",
    "from tensorflow.keras import Input, layers\n",
    "\n",
    "shape_inputs = (1,)\n",
    "temperature = Input(shape=shape_inputs, name='temp')\n",
    "nausea_occurence = Input(shape=shape_inputs, name='nocc')\n",
    "lumbar_pain = Input(shape=shape_inputs, name='lumbp')\n",
    "urine_pushing = Input(shape=shape_inputs, name='up')\n",
    "micturition_pains = Input(shape=shape_inputs, name='mict')\n",
    "bis = Input(shape=shape_inputs, name='bis')\n"
   ]
  },
  {
   "cell_type": "code",
   "execution_count": 59,
   "metadata": {
    "scrolled": true
   },
   "outputs": [],
   "source": [
    "# Create a list of all the inputs\n",
    "\n",
    "list_inputs = [temperature, nausea_occurence, lumbar_pain, urine_pushing, \n",
    "               micturition_pains, bis]"
   ]
  },
  {
   "cell_type": "code",
   "execution_count": 60,
   "metadata": {
    "scrolled": false
   },
   "outputs": [],
   "source": [
    "# Merge all input features into a single large vector\n",
    "x = layers.concatenate(list_inputs)\n"
   ]
  },
  {
   "cell_type": "code",
   "execution_count": 61,
   "metadata": {
    "scrolled": false
   },
   "outputs": [],
   "source": [
    "# Use a logistic regression classifier for disease prediction\n",
    "\n",
    "inflammation_pred = layers.Dense(1, activation='sigmoid', name='inflam')(x)\n",
    "nephritis_pred = layers.Dense(1, activation='sigmoid', name='nephr')(x)"
   ]
  },
  {
   "cell_type": "code",
   "execution_count": 62,
   "metadata": {
    "scrolled": true
   },
   "outputs": [],
   "source": [
    "# Create a list of all the outputs\n",
    "\n",
    "list_outputs = [inflammation_pred, nephritis_pred]"
   ]
  },
  {
   "cell_type": "code",
   "execution_count": 63,
   "metadata": {
    "scrolled": false
   },
   "outputs": [],
   "source": [
    "# Create the model object\n",
    "model = tf.keras.Model(inputs=list_inputs, outputs=list_outputs)\n"
   ]
  },
  {
   "cell_type": "markdown",
   "metadata": {},
   "source": [
    "#### Plot the model"
   ]
  },
  {
   "cell_type": "code",
   "execution_count": 64,
   "metadata": {
    "scrolled": false
   },
   "outputs": [
    {
     "data": {
      "image/png": "[encoded data removed]",
      "text/plain": [
       "<IPython.core.display.Image object>"
      ]
     },
     "execution_count": 64,
     "metadata": {},
     "output_type": "execute_result"
    }
   ],
   "source": [
    "# Display the multiple input/output model\n",
    "tf.keras.utils.plot_model(model, 'mult_input_output_model.png', show_shapes=True)\n"
   ]
  },
  {
   "cell_type": "markdown",
   "metadata": {},
   "source": [
    "#### Compile the model"
   ]
  },
  {
   "cell_type": "code",
   "execution_count": 65,
   "metadata": {
    "scrolled": true
   },
   "outputs": [],
   "source": [
    "# Compile the model\n",
    "model.compile(optimizer=tf.keras.optimizers.RMSprop(1e-3),\n",
    "             loss=['binary_crossentropy','binary_crossentropy'],\n",
    "             metrics=[['acc'], ['mse']],\n",
    "             loss_weights=[1., 0.2])\n"
   ]
  },
  {
   "cell_type": "markdown",
   "metadata": {},
   "source": [
    "#### Fit the model "
   ]
  },
  {
   "cell_type": "code",
   "execution_count": 66,
   "metadata": {
    "scrolled": false
   },
   "outputs": [],
   "source": [
    "# Define training inputs and outputs\n",
    "\n",
    "inputs_train = {'temp': temp_train, 'nocc': nocc_train, 'lumbp': lumbp_train,\n",
    "                'up': up_train, 'mict': mict_train, 'bis': bis_train}\n",
    "\n",
    "outputs_train = {'inflam': inflam_train, 'nephr': nephr_train}"
   ]
  },
  {
   "cell_type": "code",
   "execution_count": 67,
   "metadata": {},
   "outputs": [],
   "source": [
    "# Train the model\n",
    "history = model.fit(inputs_train, outputs_train,\n",
    "                   epochs=1000,\n",
    "                   batch_size=128, \n",
    "                   verbose=False)\n"
   ]
  },
  {
   "cell_type": "markdown",
   "metadata": {},
   "source": [
    "#### Plot the learning curves"
   ]
  },
  {
   "cell_type": "code",
   "execution_count": 68,
   "metadata": {
    "scrolled": false
   },
   "outputs": [
    {
     "data": {
      "image/png": "[encoded data removed]",
      "text/plain": [
       "<Figure size 432x288 with 1 Axes>"
      ]
     },
     "metadata": {
      "needs_background": "light"
     },
     "output_type": "display_data"
    },
    {
     "data": {
      "image/png": "[encoded data removed]",
      "text/plain": [
       "<Figure size 432x288 with 1 Axes>"
      ]
     },
     "metadata": {
      "needs_background": "light"
     },
     "output_type": "display_data"
    }
   ],
   "source": [
    "# Plot the training accuracy\n",
    "\n",
    "acc_keys = [k for k in history.history.keys() if k in ('inflam_acc', 'nephr_acc')] \n",
    "loss_keys = [k for k in history.history.keys() if not k in acc_keys]\n",
    "\n",
    "for k, v in history.history.items():\n",
    "    if k in acc_keys:\n",
    "        plt.figure(1)\n",
    "        plt.plot(v)\n",
    "    else:\n",
    "        plt.figure(2)\n",
    "        plt.plot(v)\n",
    "\n",
    "plt.figure(1)\n",
    "plt.title('Accuracy vs. epochs')\n",
    "plt.ylabel('Accuracy')\n",
    "plt.xlabel('Epoch')\n",
    "plt.legend(acc_keys, loc='upper right')\n",
    "\n",
    "plt.figure(2)\n",
    "plt.title('Loss vs. epochs')\n",
    "plt.ylabel('Loss')\n",
    "plt.xlabel('Epoch')\n",
    "plt.legend(loss_keys, loc='upper right')\n",
    "\n",
    "plt.show()"
   ]
  },
  {
   "cell_type": "code",
   "execution_count": 69,
   "metadata": {
    "scrolled": false
   },
   "outputs": [
    {
     "name": "stdout",
     "output_type": "stream",
     "text": [
      "40/1 - 0s - loss: 0.7748 - inflam_loss: 0.6351 - nephr_loss: 0.5316 - inflam_acc: 0.7500 - nephr_mse: 0.1877\n"
     ]
    },
    {
     "data": {
      "text/plain": [
       "[0.6413267970085144, 0.63509226, 0.53156877, 0.75, 0.1877348]"
      ]
     },
     "execution_count": 69,
     "metadata": {},
     "output_type": "execute_result"
    }
   ],
   "source": [
    "# Evaluate the model\n",
    "model.evaluate([temp_test, nocc_test, lumbp_test, up_test, mict_test, bis_test],\n",
    "              [inflam_test, nephr_test], verbose=2)\n"
   ]
  },
  {
   "cell_type": "markdown",
   "metadata": {},
   "source": [
    "***\n",
    "<a id=\"coding_tutorial_2\"></a>\n",
    "## Tensors and Variables"
   ]
  },
  {
   "cell_type": "code",
   "execution_count": 70,
   "metadata": {
    "scrolled": false
   },
   "outputs": [],
   "source": [
    "import numpy as np"
   ]
  },
  {
   "cell_type": "markdown",
   "metadata": {},
   "source": [
    "#### Create Variable objects"
   ]
  },
  {
   "cell_type": "code",
   "execution_count": 71,
   "metadata": {
    "scrolled": false
   },
   "outputs": [],
   "source": [
    "# Create Variable objects of different type with tf.Variable\n",
    "\n",
    "strings = tf.Variable([\"Hello world!\"], tf.string)\n",
    "floats  = tf.Variable([3.14159, 2.71828], tf.float64)\n",
    "ints = tf.Variable([1, 2, 3], tf.int32)\n",
    "complexs = tf.Variable([25.9 - 7.39j, 1.23 - 4.91j], tf.complex128)"
   ]
  },
  {
   "cell_type": "code",
   "execution_count": 72,
   "metadata": {
    "scrolled": false
   },
   "outputs": [
    {
     "data": {
      "text/plain": [
       "<tf.Variable 'Variable:0' shape=(3, 3) dtype=float32, numpy=\n",
       "array([[4.2, 4.2, 4.2],\n",
       "       [4.2, 4.2, 4.2],\n",
       "       [4.2, 4.2, 4.2]], dtype=float32)>"
      ]
     },
     "execution_count": 72,
     "metadata": {},
     "output_type": "execute_result"
    }
   ],
   "source": [
    "# Initialise a Variable value\n",
    "tf.Variable(tf.constant(4.2, shape=(3,3)))\n"
   ]
  },
  {
   "cell_type": "markdown",
   "metadata": {},
   "source": [
    "#### Use and modify Variable values"
   ]
  },
  {
   "cell_type": "code",
   "execution_count": 73,
   "metadata": {
    "scrolled": false
   },
   "outputs": [
    {
     "name": "stdout",
     "output_type": "stream",
     "text": [
      "<class 'tensorflow.python.framework.ops.EagerTensor'>\n"
     ]
    }
   ],
   "source": [
    "# Use the value of a Variable\n",
    "\n",
    "v = tf.Variable(0.0)\n",
    "w = v + 1  # w is a tf.Tensor which is computed based on the value of v.\n",
    "\n",
    "print(type(w))"
   ]
  },
  {
   "cell_type": "code",
   "execution_count": 74,
   "metadata": {
    "scrolled": false
   },
   "outputs": [
    {
     "name": "stdout",
     "output_type": "stream",
     "text": [
      "<tf.Variable 'Variable:0' shape=() dtype=float32, numpy=1.0>\n"
     ]
    }
   ],
   "source": [
    "# Increment the value of a Variable\n",
    "v.assign_add(1)\n",
    "print(v)\n"
   ]
  },
  {
   "cell_type": "code",
   "execution_count": 77,
   "metadata": {
    "scrolled": false
   },
   "outputs": [
    {
     "name": "stdout",
     "output_type": "stream",
     "text": [
      "<tf.Variable 'Variable:0' shape=() dtype=float32, numpy=0.0>\n"
     ]
    }
   ],
   "source": [
    "# Decrement the value of a Variable\n",
    "v.assign_sub(1)\n",
    "print(v)\n"
   ]
  },
  {
   "cell_type": "markdown",
   "metadata": {},
   "source": [
    "#### Create Tensor objects"
   ]
  },
  {
   "cell_type": "markdown",
   "metadata": {},
   "source": [
    "Create a constant tensor and print its type as well as its shape:"
   ]
  },
  {
   "cell_type": "code",
   "execution_count": 89,
   "metadata": {
    "scrolled": false
   },
   "outputs": [
    {
     "name": "stdout",
     "output_type": "stream",
     "text": [
      "tf.Tensor(\n",
      "[[1 2 3]\n",
      " [4 5 6]\n",
      " [7 8 9]], shape=(3, 3), dtype=int32)\n",
      "dtype: <dtype: 'int32'>\n",
      "shape: (3, 3)\n"
     ]
    }
   ],
   "source": [
    "# Create a constant Tensor\n",
    "\n",
    "x = tf.constant([[1, 2, 3], [4, 5, 6], [7, 8, 9]])\n",
    "print(x)\n",
    "print(\"dtype:\", x.dtype)\n",
    "print(\"shape:\", x.shape)"
   ]
  },
  {
   "cell_type": "code",
   "execution_count": 90,
   "metadata": {
    "scrolled": false
   },
   "outputs": [
    {
     "data": {
      "text/plain": [
       "array([[1, 2, 3],\n",
       "       [4, 5, 6],\n",
       "       [7, 8, 9]], dtype=int32)"
      ]
     },
     "execution_count": 90,
     "metadata": {},
     "output_type": "execute_result"
    }
   ],
   "source": [
    "# Obtain the value as a numpy array\n",
    "\n",
    "x.numpy()"
   ]
  },
  {
   "cell_type": "code",
   "execution_count": 91,
   "metadata": {
    "scrolled": false
   },
   "outputs": [],
   "source": [
    "# Create a Tensor of type float32\n",
    "\n",
    "x = tf.constant([[1, 2, 3], [4, 5, 6], [7, 8, 9]], dtype=tf.float32)"
   ]
  },
  {
   "cell_type": "code",
   "execution_count": 92,
   "metadata": {
    "scrolled": false
   },
   "outputs": [],
   "source": [
    "# Create coefficients\n",
    "\n",
    "coeffs = np.arange(16)"
   ]
  },
  {
   "cell_type": "code",
   "execution_count": 93,
   "metadata": {},
   "outputs": [],
   "source": [
    "# Initialise shapes\n",
    "\n",
    "shape1 = [8,2]\n",
    "shape2 = [4,4]\n",
    "shape3 = [2,2,2,2]\n"
   ]
  },
  {
   "cell_type": "code",
   "execution_count": 94,
   "metadata": {},
   "outputs": [
    {
     "name": "stdout",
     "output_type": "stream",
     "text": [
      "\n",
      " a:\n",
      "  tf.Tensor(\n",
      "[[ 0  1]\n",
      " [ 2  3]\n",
      " [ 4  5]\n",
      " [ 6  7]\n",
      " [ 8  9]\n",
      " [10 11]\n",
      " [12 13]\n",
      " [14 15]], shape=(8, 2), dtype=int64)\n",
      "\n",
      " b:\n",
      "  tf.Tensor(\n",
      "[[ 0  1  2  3]\n",
      " [ 4  5  6  7]\n",
      " [ 8  9 10 11]\n",
      " [12 13 14 15]], shape=(4, 4), dtype=int64)\n",
      "\n",
      " c:\n",
      "  tf.Tensor(\n",
      "[[[[ 0  1]\n",
      "   [ 2  3]]\n",
      "\n",
      "  [[ 4  5]\n",
      "   [ 6  7]]]\n",
      "\n",
      "\n",
      " [[[ 8  9]\n",
      "   [10 11]]\n",
      "\n",
      "  [[12 13]\n",
      "   [14 15]]]], shape=(2, 2, 2, 2), dtype=int64)\n"
     ]
    }
   ],
   "source": [
    "# Create Tensors of different shape\n",
    "\n",
    "a = tf.constant(coeffs, shape=shape1)\n",
    "print(\"\\n a:\\n \", a)\n",
    "\n",
    "b = tf.constant(coeffs, shape=shape2)\n",
    "print(\"\\n b:\\n \", b)\n",
    "\n",
    "c = tf.constant(coeffs, shape=shape3)\n",
    "print(\"\\n c:\\n \", c)"
   ]
  },
  {
   "cell_type": "markdown",
   "metadata": {},
   "source": [
    "#### Useful Tensor operations"
   ]
  },
  {
   "cell_type": "code",
   "execution_count": 95,
   "metadata": {
    "scrolled": false
   },
   "outputs": [],
   "source": [
    "# Create a constant Tensor\n",
    "\n",
    "t = tf.constant(np.arange(80), shape=[5,2,8])"
   ]
  },
  {
   "cell_type": "code",
   "execution_count": 97,
   "metadata": {},
   "outputs": [
    {
     "data": {
      "text/plain": [
       "<tf.Tensor: id=31809, shape=(), dtype=int32, numpy=3>"
      ]
     },
     "execution_count": 97,
     "metadata": {},
     "output_type": "execute_result"
    }
   ],
   "source": [
    "# Get the rank of a Tensor\n",
    "rank = tf.rank(t)\n",
    "rank"
   ]
  },
  {
   "cell_type": "code",
   "execution_count": 98,
   "metadata": {},
   "outputs": [
    {
     "name": "stdout",
     "output_type": "stream",
     "text": [
      "rank:  tf.Tensor(3, shape=(), dtype=int32)\n"
     ]
    }
   ],
   "source": [
    "# Display the rank\n",
    "\n",
    "print(\"rank: \", rank)"
   ]
  },
  {
   "cell_type": "code",
   "execution_count": 99,
   "metadata": {
    "scrolled": false
   },
   "outputs": [],
   "source": [
    "# Reshape a Tensor\n",
    "\n",
    "t2 = tf.reshape(t, [8,10])"
   ]
  },
  {
   "cell_type": "code",
   "execution_count": 100,
   "metadata": {},
   "outputs": [
    {
     "name": "stdout",
     "output_type": "stream",
     "text": [
      "t2.shape:  (8, 10)\n"
     ]
    }
   ],
   "source": [
    "# Display the new shape\n",
    "\n",
    "print(\"t2.shape: \", t2.shape)"
   ]
  },
  {
   "cell_type": "code",
   "execution_count": 106,
   "metadata": {
    "scrolled": false
   },
   "outputs": [],
   "source": [
    "# Create ones, zeros, identity and constant Tensors\n",
    "\n",
    "ones = tf.ones(shape=(2,3))\n",
    "zeros = tf.zeros(shape=(2,4))\n",
    "eye = tf.eye(3)\n",
    "tensor7 = tf.constant(7.0, shape=[2,2])"
   ]
  },
  {
   "cell_type": "code",
   "execution_count": 107,
   "metadata": {},
   "outputs": [
    {
     "name": "stdout",
     "output_type": "stream",
     "text": [
      "\n",
      " Ones:\n",
      "  tf.Tensor(\n",
      "[[1. 1. 1.]\n",
      " [1. 1. 1.]], shape=(2, 3), dtype=float32)\n",
      "\n",
      " Zeros:\n",
      "  tf.Tensor(\n",
      "[[0. 0. 0. 0.]\n",
      " [0. 0. 0. 0.]], shape=(2, 4), dtype=float32)\n",
      "\n",
      " Identity:\n",
      "  tf.Tensor(\n",
      "[[1. 0. 0.]\n",
      " [0. 1. 0.]\n",
      " [0. 0. 1.]], shape=(3, 3), dtype=float32)\n",
      "\n",
      " Tensor filled with 7:  tf.Tensor(\n",
      "[[7. 7.]\n",
      " [7. 7.]], shape=(2, 2), dtype=float32)\n"
     ]
    }
   ],
   "source": [
    "# Display the created tensors\n",
    "\n",
    "print(\"\\n Ones:\\n \", ones)\n",
    "print(\"\\n Zeros:\\n \", zeros)\n",
    "print(\"\\n Identity:\\n \", eye)\n",
    "print(\"\\n Tensor filled with 7: \", tensor7)"
   ]
  },
  {
   "cell_type": "code",
   "execution_count": 108,
   "metadata": {
    "scrolled": false
   },
   "outputs": [],
   "source": [
    "# Create a ones Tensor and a zeros Tensor\n",
    "\n",
    "t1 = tf.ones(shape=(2, 2))\n",
    "t2 = tf.zeros(shape=(2, 2))"
   ]
  },
  {
   "cell_type": "code",
   "execution_count": 111,
   "metadata": {
    "scrolled": false
   },
   "outputs": [],
   "source": [
    "# Concatentate two Tensors\n",
    "\n",
    "concat0 = tf.concat([t1,t2], 0)\n",
    "concat1 = tf.concat([t1,t2], 1)"
   ]
  },
  {
   "cell_type": "code",
   "execution_count": 112,
   "metadata": {},
   "outputs": [
    {
     "name": "stdout",
     "output_type": "stream",
     "text": [
      "tf.Tensor(\n",
      "[[1. 1.]\n",
      " [1. 1.]\n",
      " [0. 0.]\n",
      " [0. 0.]], shape=(4, 2), dtype=float32)\n",
      "tf.Tensor(\n",
      "[[1. 1. 0. 0.]\n",
      " [1. 1. 0. 0.]], shape=(2, 4), dtype=float32)\n"
     ]
    }
   ],
   "source": [
    "# Display the concatenated tensors\n",
    "\n",
    "print(concat0)\n",
    "print(concat1)"
   ]
  },
  {
   "cell_type": "code",
   "execution_count": 116,
   "metadata": {
    "scrolled": false
   },
   "outputs": [
    {
     "name": "stdout",
     "output_type": "stream",
     "text": [
      "\n",
      " t shape:  (3, 2, 4)\n"
     ]
    }
   ],
   "source": [
    "# Create a constant Tensor\n",
    "\n",
    "t = tf.constant(np.arange(24), shape=(3, 2, 4))\n",
    "print(\"\\n t shape: \", t.shape)"
   ]
  },
  {
   "cell_type": "code",
   "execution_count": 120,
   "metadata": {
    "scrolled": false
   },
   "outputs": [],
   "source": [
    "# Expanding the rank of Tensors\n",
    "t1 = tf.expand_dims(t, 0)\n",
    "t2 = tf.expand_dims(t, 1)\n",
    "t3 = tf.expand_dims(t, 3)"
   ]
  },
  {
   "cell_type": "code",
   "execution_count": 121,
   "metadata": {
    "scrolled": false
   },
   "outputs": [
    {
     "name": "stdout",
     "output_type": "stream",
     "text": [
      "\n",
      " After expanding dims:\n",
      " t1 shape:  (1, 3, 2, 4) \n",
      " t2 shape:  (3, 1, 2, 4) \n",
      " t3 shape:  (3, 2, 4, 1)\n"
     ]
    }
   ],
   "source": [
    "# Display the shapes after tf.expand_dims\n",
    "\n",
    "print(\"\\n After expanding dims:\\n t1 shape: \", t1.shape, \"\\n t2 shape: \", t2.shape, \"\\n t3 shape: \", t3.shape)"
   ]
  },
  {
   "cell_type": "code",
   "execution_count": 122,
   "metadata": {
    "scrolled": false
   },
   "outputs": [],
   "source": [
    "# Squeezing redundant dimensions\n",
    "\n",
    "t1 = tf.squeeze(t1, 0)\n",
    "t2 = tf.squeeze(t2, 1)\n",
    "t3 = tf.squeeze(t3, 3)"
   ]
  },
  {
   "cell_type": "code",
   "execution_count": 123,
   "metadata": {
    "scrolled": false
   },
   "outputs": [
    {
     "name": "stdout",
     "output_type": "stream",
     "text": [
      "\n",
      " After squeezing:\n",
      " t1 shape:  (3, 2, 4) \n",
      " t2 shape:  (3, 2, 4) \n",
      " t3 shape:  (3, 2, 4)\n"
     ]
    }
   ],
   "source": [
    "# Display the shapes after tf.squeeze\n",
    "\n",
    "print(\"\\n After squeezing:\\n t1 shape: \", t1.shape, \"\\n t2 shape: \", t2.shape, \"\\n t3 shape: \", t3.shape)"
   ]
  },
  {
   "cell_type": "code",
   "execution_count": 124,
   "metadata": {
    "scrolled": false
   },
   "outputs": [
    {
     "name": "stdout",
     "output_type": "stream",
     "text": [
      "tf.Tensor([2 3 4 5 6 7], shape=(6,), dtype=int32)\n"
     ]
    }
   ],
   "source": [
    "# Slicing a Tensor\n",
    "\n",
    "x = tf.constant([1,2,3,4,5,6,7])\n",
    "print(x[1:])"
   ]
  },
  {
   "cell_type": "markdown",
   "metadata": {},
   "source": [
    "#### Doing maths with Tensors"
   ]
  },
  {
   "cell_type": "code",
   "execution_count": 125,
   "metadata": {},
   "outputs": [],
   "source": [
    "# Create two constant Tensors\n",
    "\n",
    "c = tf.constant([[1.0, 2.0], [3.0, 4.0]])\n",
    "d = tf.constant([[1.0, 1.0], [0.0, 1.0]])"
   ]
  },
  {
   "cell_type": "code",
   "execution_count": 126,
   "metadata": {
    "scrolled": false
   },
   "outputs": [],
   "source": [
    "# Matrix multiplication\n",
    "\n",
    "matmul_cd = tf.matmul(c,d)"
   ]
  },
  {
   "cell_type": "code",
   "execution_count": 127,
   "metadata": {},
   "outputs": [
    {
     "name": "stdout",
     "output_type": "stream",
     "text": [
      "\n",
      " tf.matmul(c,d):\n",
      " tf.Tensor(\n",
      "[[1. 3.]\n",
      " [3. 7.]], shape=(2, 2), dtype=float32)\n"
     ]
    }
   ],
   "source": [
    "# Display the result\n",
    "\n",
    "print(\"\\n tf.matmul(c,d):\\n\", matmul_cd)"
   ]
  },
  {
   "cell_type": "code",
   "execution_count": 128,
   "metadata": {
    "scrolled": false
   },
   "outputs": [],
   "source": [
    "# Elementwise operations\n",
    "c_times_d = c*d\n",
    "c_plus_d = c+d\n",
    "c_minus_d = c-d\n",
    "c_div_c = c/c\n"
   ]
  },
  {
   "cell_type": "code",
   "execution_count": 129,
   "metadata": {},
   "outputs": [
    {
     "name": "stdout",
     "output_type": "stream",
     "text": [
      "\n",
      " c*d:\n",
      " tf.Tensor(\n",
      "[[1. 2.]\n",
      " [0. 4.]], shape=(2, 2), dtype=float32)\n",
      "\n",
      " c+d:\n",
      " tf.Tensor(\n",
      "[[2. 3.]\n",
      " [3. 5.]], shape=(2, 2), dtype=float32)\n",
      "\n",
      " c-d:\n",
      " tf.Tensor(\n",
      "[[0. 1.]\n",
      " [3. 3.]], shape=(2, 2), dtype=float32)\n",
      "\n",
      " c/c:\n",
      " tf.Tensor(\n",
      "[[1. 1.]\n",
      " [1. 1.]], shape=(2, 2), dtype=float32)\n"
     ]
    }
   ],
   "source": [
    "# Display the results\n",
    "\n",
    "print(\"\\n c*d:\\n\", c_times_d)\n",
    "print(\"\\n c+d:\\n\", c_plus_d)\n",
    "print(\"\\n c-d:\\n\", c_minus_d)\n",
    "print(\"\\n c/c:\\n\", c_div_c)"
   ]
  },
  {
   "cell_type": "code",
   "execution_count": 130,
   "metadata": {
    "scrolled": false
   },
   "outputs": [],
   "source": [
    "# Create Tensors\n",
    "\n",
    "a = tf.constant([[2, 3], [3, 3]])\n",
    "b = tf.constant([[8, 7], [2, 3]])\n",
    "x = tf.constant([[-6.89 + 1.78j], [-2.54 + 2.15j]])"
   ]
  },
  {
   "cell_type": "code",
   "execution_count": 131,
   "metadata": {},
   "outputs": [],
   "source": [
    "# Absolute value of a Tensor\n",
    "\n",
    "absx = tf.abs(x)"
   ]
  },
  {
   "cell_type": "code",
   "execution_count": 136,
   "metadata": {},
   "outputs": [],
   "source": [
    "# Power of a Tensor\n",
    "\n",
    "powaa = tf.pow(a, a)"
   ]
  },
  {
   "cell_type": "code",
   "execution_count": 137,
   "metadata": {
    "scrolled": false
   },
   "outputs": [
    {
     "name": "stdout",
     "output_type": "stream",
     "text": [
      "\n",
      "  tf.Tensor(\n",
      "[[7.11621388]\n",
      " [3.32777704]], shape=(2, 1), dtype=float64)\n",
      "\n",
      "  tf.Tensor(\n",
      "[[ 4 27]\n",
      " [27 27]], shape=(2, 2), dtype=int32)\n"
     ]
    }
   ],
   "source": [
    "# Display the results\n",
    "\n",
    "print(\"\\n \", absx)\n",
    "print(\"\\n \", powab)"
   ]
  },
  {
   "cell_type": "markdown",
   "metadata": {},
   "source": [
    "#### Randomly sampled constant tensors"
   ]
  },
  {
   "cell_type": "code",
   "execution_count": 139,
   "metadata": {
    "scrolled": false
   },
   "outputs": [],
   "source": [
    "# Create a Tensor with samples from a Normal distribution\n",
    "\n",
    "tn = tf.random.normal(shape=(2,2), mean=0, stddev=1.)"
   ]
  },
  {
   "cell_type": "code",
   "execution_count": 141,
   "metadata": {
    "scrolled": false
   },
   "outputs": [],
   "source": [
    "# Create a Tensor with samples from a Uniform distribution\n",
    "\n",
    "tu = tf.random.uniform(shape=(2,1), minval=0, maxval=10, dtype='int32')"
   ]
  },
  {
   "cell_type": "code",
   "execution_count": 142,
   "metadata": {
    "scrolled": false
   },
   "outputs": [],
   "source": [
    "# Create a Tensor with samples from a Poisson distribution\n",
    "\n",
    "tp = tf.random.poisson((2,2), 5)"
   ]
  },
  {
   "cell_type": "code",
   "execution_count": 143,
   "metadata": {
    "scrolled": false
   },
   "outputs": [],
   "source": [
    "# More maths operations\n",
    "\n",
    "d = tf.square(tn)\n",
    "e = tf.exp(d)\n",
    "f = tf.cos(c)"
   ]
  },
  {
   "cell_type": "markdown",
   "metadata": {},
   "source": [
    "***\n",
    "<a id=\"coding_tutorial_3\"></a>\n",
    "## Accessing model layers"
   ]
  },
  {
   "cell_type": "code",
   "execution_count": null,
   "metadata": {
    "scrolled": false
   },
   "outputs": [],
   "source": [
    "import numpy as np\n",
    "import matplotlib.pyplot as plt\n",
    "%matplotlib inline"
   ]
  },
  {
   "cell_type": "markdown",
   "metadata": {},
   "source": [
    "#### Load the pre-trained model"
   ]
  },
  {
   "cell_type": "markdown",
   "metadata": {},
   "source": [
    "In this section, we aim to demonstrate accessing layer attributes within a model.\n",
    "\n",
    "Let's get started by loading the `VGG19` pre-trained model from the `keras.applications` library, which is a very deep network trained on more than a million images from the ImageNet database. The network is trained to classify images into 1000 object categories."
   ]
  },
  {
   "cell_type": "code",
   "execution_count": null,
   "metadata": {
    "scrolled": false
   },
   "outputs": [],
   "source": [
    "# Load the VGG19 model\n",
    "\n"
   ]
  },
  {
   "cell_type": "code",
   "execution_count": null,
   "metadata": {},
   "outputs": [],
   "source": [
    "# Get the inputs, layers and display the summary\n",
    "\n",
    "vgg_input = vgg_model.input\n",
    "vgg_layers = vgg_model.layers\n",
    "vgg_model.summary()"
   ]
  },
  {
   "cell_type": "markdown",
   "metadata": {},
   "source": [
    "#### Build a model to access the layer outputs"
   ]
  },
  {
   "cell_type": "code",
   "execution_count": null,
   "metadata": {},
   "outputs": [],
   "source": [
    "from tensorflow.keras.models import Model"
   ]
  },
  {
   "cell_type": "code",
   "execution_count": null,
   "metadata": {
    "scrolled": false
   },
   "outputs": [],
   "source": [
    "# Build a model that returns the layer outputs\n",
    "\n"
   ]
  },
  {
   "cell_type": "code",
   "execution_count": null,
   "metadata": {
    "scrolled": true
   },
   "outputs": [],
   "source": [
    "# Plot the model\n",
    "\n"
   ]
  },
  {
   "cell_type": "code",
   "execution_count": null,
   "metadata": {
    "scrolled": false
   },
   "outputs": [],
   "source": [
    "# Test the model on a random input\n",
    "\n"
   ]
  },
  {
   "cell_type": "markdown",
   "metadata": {},
   "source": [
    "#### Load the 'cool cat' picture"
   ]
  },
  {
   "cell_type": "markdown",
   "metadata": {},
   "source": [
    "In Zambia’s South Luangwa National Park, a photographer had been watching a pride of lions while they slept off a feast from a buffalo kill. When this female walked away, he anticipated that she might be going for a drink and so he positioned his vehicle on the opposite side of the waterhole. The `cool cat` picture is one of the highly commended 2018 Image from Wildlife Photographer of the Year."
   ]
  },
  {
   "cell_type": "code",
   "execution_count": null,
   "metadata": {
    "scrolled": false
   },
   "outputs": [],
   "source": [
    "# Display the original image\n",
    "\n",
    "import IPython.display as display\n",
    "from PIL import Image\n",
    "\n",
    "display.display(Image.open('data/cool_cat.jpg'))"
   ]
  },
  {
   "cell_type": "markdown",
   "metadata": {},
   "source": [
    "#### Visualise network features from the input image"
   ]
  },
  {
   "cell_type": "code",
   "execution_count": null,
   "metadata": {
    "scrolled": false
   },
   "outputs": [],
   "source": [
    "# Preprocess the image\n",
    "\n",
    "from tensorflow.keras.applications.vgg19 import preprocess_input\n",
    "from tensorflow.keras.preprocessing import image\n",
    "\n",
    "img_path = 'data/cool_cat.jpg'\n",
    "img = image.load_img(img_path, target_size=(224, 224))\n",
    "x = image.img_to_array(img)\n",
    "x = np.expand_dims(x, axis=0)\n",
    "x = preprocess_input(x)"
   ]
  },
  {
   "cell_type": "code",
   "execution_count": null,
   "metadata": {
    "scrolled": false
   },
   "outputs": [],
   "source": [
    "# Extract the features\n",
    "\n"
   ]
  },
  {
   "cell_type": "code",
   "execution_count": null,
   "metadata": {
    "scrolled": false
   },
   "outputs": [],
   "source": [
    "# Visualise the input channels\n",
    "\n"
   ]
  },
  {
   "cell_type": "code",
   "execution_count": null,
   "metadata": {
    "scrolled": false
   },
   "outputs": [],
   "source": [
    "# Visualise some features in the first hidden layer\n",
    "\n"
   ]
  },
  {
   "cell_type": "code",
   "execution_count": null,
   "metadata": {
    "scrolled": false
   },
   "outputs": [],
   "source": [
    "# Build a model to extract features by layer name\n",
    "\n"
   ]
  },
  {
   "cell_type": "code",
   "execution_count": null,
   "metadata": {
    "scrolled": false
   },
   "outputs": [],
   "source": [
    "# Visualise some features from the extracted layer output\n",
    "\n"
   ]
  },
  {
   "cell_type": "code",
   "execution_count": null,
   "metadata": {
    "scrolled": false
   },
   "outputs": [],
   "source": [
    "# Extract features from a layer deeper in the network\n",
    "\n"
   ]
  },
  {
   "cell_type": "code",
   "execution_count": null,
   "metadata": {
    "scrolled": false
   },
   "outputs": [],
   "source": [
    "# Visualise some features from the extracted layer output\n",
    "\n"
   ]
  },
  {
   "cell_type": "markdown",
   "metadata": {},
   "source": [
    "***\n",
    "<a id=\"coding_tutorial_4\"></a>\n",
    "## Freezing layers"
   ]
  },
  {
   "cell_type": "code",
   "execution_count": null,
   "metadata": {
    "scrolled": false
   },
   "outputs": [],
   "source": [
    "import numpy as np\n",
    "import matplotlib.pyplot as plt\n",
    "%matplotlib inline"
   ]
  },
  {
   "cell_type": "markdown",
   "metadata": {},
   "source": [
    "#### Build the model"
   ]
  },
  {
   "cell_type": "code",
   "execution_count": null,
   "metadata": {
    "scrolled": false
   },
   "outputs": [],
   "source": [
    "# Build a small Sequential model\n",
    "\n",
    "from tensorflow.keras.models import Sequential\n",
    "from tensorflow.keras import layers\n",
    "\n",
    "model = Sequential([\n",
    "    layers.Dense(4, input_shape=(4,), activation='relu', kernel_initializer='random_uniform',\n",
    "                 bias_initializer='ones'),\n",
    "    layers.Dense(2, activation='relu', kernel_initializer='lecun_normal', bias_initializer='ones'),\n",
    "    layers.Dense(4, activation='softmax'),\n",
    "])"
   ]
  },
  {
   "cell_type": "code",
   "execution_count": null,
   "metadata": {
    "scrolled": false
   },
   "outputs": [],
   "source": [
    "# Display the model summary\n",
    "\n",
    "model.summary()"
   ]
  },
  {
   "cell_type": "markdown",
   "metadata": {},
   "source": [
    "#### Examine the weight matrix variation over training"
   ]
  },
  {
   "cell_type": "code",
   "execution_count": null,
   "metadata": {
    "scrolled": false
   },
   "outputs": [],
   "source": [
    "# Retrieve the weights and biases\n",
    "\n"
   ]
  },
  {
   "cell_type": "code",
   "execution_count": null,
   "metadata": {
    "scrolled": false
   },
   "outputs": [],
   "source": [
    "# Construct a synthetic dataset\n",
    "\n",
    "x_train = np.random.random((100, 4))\n",
    "y_train = x_train\n",
    "\n",
    "x_test = np.random.random((20, 4))\n",
    "y_test = x_test"
   ]
  },
  {
   "cell_type": "code",
   "execution_count": null,
   "metadata": {
    "scrolled": false
   },
   "outputs": [],
   "source": [
    "# Compile and fit the model\n",
    "\n",
    "model.compile(optimizer='adam',\n",
    "              loss='mse',\n",
    "              metrics=['acc'])\n",
    "\n",
    "model.fit(x_train, y_train, epochs=50, verbose=False);"
   ]
  },
  {
   "cell_type": "code",
   "execution_count": null,
   "metadata": {
    "scrolled": false
   },
   "outputs": [],
   "source": [
    "# Retrieve weights and biases\n",
    "\n"
   ]
  },
  {
   "cell_type": "code",
   "execution_count": null,
   "metadata": {
    "scrolled": false
   },
   "outputs": [],
   "source": [
    "# Plot the variation\n",
    "\n",
    "plt.figure(figsize=(8,8))\n",
    "for n in range(3):\n",
    "    delta_l = W1_layers[n] - W0_layers[n]\n",
    "    print('Layer '+str(n)+': bias variation: ', np.linalg.norm(b1_layers[n] - b0_layers[n]))\n",
    "    ax = plt.subplot(1,3,n+1)\n",
    "    plt.imshow(delta_l)\n",
    "    plt.title('Layer '+str(n))\n",
    "    plt.axis('off')\n",
    "plt.colorbar()\n",
    "plt.suptitle('Weight matrices variation');"
   ]
  },
  {
   "cell_type": "markdown",
   "metadata": {},
   "source": [
    "#### Freeze layers at build time"
   ]
  },
  {
   "cell_type": "code",
   "execution_count": null,
   "metadata": {
    "scrolled": false
   },
   "outputs": [],
   "source": [
    "# Count the trainable and non trainable variables before the freezing\n",
    "\n"
   ]
  },
  {
   "cell_type": "code",
   "execution_count": null,
   "metadata": {},
   "outputs": [],
   "source": [
    "# Display the number of trainable and non trainable variables before the freezing\n",
    "\n",
    "print(\"\\n Before freezing:\\n\\t Number of trainable variables: \", n_trainable_variables,\n",
    "                         \"\\n\\t Number of non trainable variables: \", n_non_trainable_variables)"
   ]
  },
  {
   "cell_type": "code",
   "execution_count": null,
   "metadata": {
    "scrolled": false
   },
   "outputs": [],
   "source": [
    "# Build the model\n",
    "\n"
   ]
  },
  {
   "cell_type": "code",
   "execution_count": null,
   "metadata": {
    "scrolled": false
   },
   "outputs": [],
   "source": [
    "# Count the trainable and non trainable variables after the freezing\n",
    "\n"
   ]
  },
  {
   "cell_type": "code",
   "execution_count": null,
   "metadata": {},
   "outputs": [],
   "source": [
    "# Display the number of trainable and non trainable variables after the freezing\n",
    "\n",
    "print(\"\\n After freezing:\\n\\t Number of trainable variables: \", n_trainable_variables,\n",
    "                         \"\\n\\t Number of non trainable variables: \", n_non_trainable_variables)"
   ]
  },
  {
   "cell_type": "code",
   "execution_count": null,
   "metadata": {
    "scrolled": false
   },
   "outputs": [],
   "source": [
    "# Retrieve weights and biases\n",
    "\n"
   ]
  },
  {
   "cell_type": "code",
   "execution_count": null,
   "metadata": {
    "scrolled": false
   },
   "outputs": [],
   "source": [
    "# Compile and fit the model\n",
    "\n",
    "model.compile(optimizer='adam',\n",
    "              loss='mse',\n",
    "              metrics=['acc'])\n",
    "\n",
    "model.fit(x_train, y_train, epochs=50, verbose=False);"
   ]
  },
  {
   "cell_type": "code",
   "execution_count": null,
   "metadata": {
    "scrolled": false
   },
   "outputs": [],
   "source": [
    "# Retrieve weights and biases\n",
    "\n"
   ]
  },
  {
   "cell_type": "code",
   "execution_count": null,
   "metadata": {
    "scrolled": false
   },
   "outputs": [],
   "source": [
    "# Plot the variation\n",
    "\n"
   ]
  },
  {
   "cell_type": "markdown",
   "metadata": {},
   "source": [
    "#### Freeze layers of a pre-built model"
   ]
  },
  {
   "cell_type": "code",
   "execution_count": null,
   "metadata": {
    "scrolled": false
   },
   "outputs": [],
   "source": [
    "# Count the trainable and non trainable variables before the freezing\n",
    "\n",
    "print(\"\\n Before freezing:\\n\\t Number of trainable variables: \", len(model.trainable_variables),\n",
    "                         \"\\n\\t Number of non trainable variables: \", len(model.non_trainable_variables))"
   ]
  },
  {
   "cell_type": "code",
   "execution_count": null,
   "metadata": {
    "scrolled": false
   },
   "outputs": [],
   "source": [
    "# Freeze the second layer\n",
    "\n"
   ]
  },
  {
   "cell_type": "code",
   "execution_count": null,
   "metadata": {
    "scrolled": false
   },
   "outputs": [],
   "source": [
    "# Count the trainable and non trainable variables after the freezing\n",
    "\n",
    "print(\"\\n After freezing:\\n\\t Number of trainable variables: \", len(model.trainable_variables),\n",
    "                        \"\\n\\t Number of non trainable variables: \", len(model.non_trainable_variables))"
   ]
  },
  {
   "cell_type": "code",
   "execution_count": null,
   "metadata": {
    "scrolled": false
   },
   "outputs": [],
   "source": [
    "# Compile and fit the model\n",
    "\n",
    "model.compile(optimizer='adam',\n",
    "              loss='mse',\n",
    "              metrics=['acc'])\n",
    "\n",
    "model.fit(x_train, y_train, epochs=50, verbose=False);"
   ]
  },
  {
   "cell_type": "code",
   "execution_count": null,
   "metadata": {
    "scrolled": false
   },
   "outputs": [],
   "source": [
    "# Retrieve weights and biases\n",
    "\n"
   ]
  },
  {
   "cell_type": "code",
   "execution_count": null,
   "metadata": {
    "scrolled": false
   },
   "outputs": [],
   "source": [
    "# Plot the variation\n",
    "\n"
   ]
  }
 ],
 "metadata": {
  "kernelspec": {
   "display_name": "Python 3",
   "language": "python",
   "name": "python3"
  },
  "language_info": {
   "codemirror_mode": {
    "name": "ipython",
    "version": 3
   },
   "file_extension": ".py",
   "mimetype": "text/x-python",
   "name": "python",
   "nbconvert_exporter": "python",
   "pygments_lexer": "ipython3",
   "version": "3.7.1"
  }
 },
 "nbformat": 4,
 "nbformat_minor": 2
}
