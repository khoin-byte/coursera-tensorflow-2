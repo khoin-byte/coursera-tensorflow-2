{
 "cells": [
  {
   "cell_type": "markdown",
   "metadata": {},
   "source": [
    "# Capstone Project\n",
    "## Image classifier for the SVHN dataset\n",
    "### Instructions\n",
    "\n",
    "In this notebook, you will create a neural network that classifies real-world images digits. You will use concepts from throughout this course in building, training, testing, validating and saving your Tensorflow classifier model.\n",
    "\n",
    "This project is peer-assessed. Within this notebook you will find instructions in each section for how to complete the project. Pay close attention to the instructions as the peer review will be carried out according to a grading rubric that checks key parts of the project instructions. Feel free to add extra cells into the notebook as required.\n",
    "\n",
    "### How to submit\n",
    "\n",
    "When you have completed the Capstone project notebook, you will submit a pdf of the notebook for peer review. First ensure that the notebook has been fully executed from beginning to end, and all of the cell outputs are visible. This is important, as the grading rubric depends on the reviewer being able to view the outputs of your notebook. Save the notebook as a pdf (File -> Download as -> PDF via LaTeX). You should then submit this pdf for review.\n",
    "\n",
    "### Let's get started!\n",
    "\n",
    "We'll start by running some imports, and loading the dataset. For this project you are free to make further imports throughout the notebook as you wish. "
   ]
  },
  {
   "cell_type": "code",
   "execution_count": 1,
   "metadata": {},
   "outputs": [],
   "source": [
    "import tensorflow as tf\n",
    "from scipy.io import loadmat"
   ]
  },
  {
   "cell_type": "markdown",
   "metadata": {},
   "source": [
    "![SVHN overview image](data/svhn_examples.jpg)\n",
    "For the capstone project, you will use the [SVHN dataset](http://ufldl.stanford.edu/housenumbers/). This is an  image dataset of over 600,000 digit images in all, and is a harder dataset than MNIST as the numbers appear in the context of natural scene images. SVHN is obtained from house numbers in Google Street View images. \n",
    "\n",
    "* Y. Netzer, T. Wang, A. Coates, A. Bissacco, B. Wu and A. Y. Ng. \"Reading Digits in Natural Images with Unsupervised Feature Learning\". NIPS Workshop on Deep Learning and Unsupervised Feature Learning, 2011.\n",
    "\n",
    "Your goal is to develop an end-to-end workflow for building, training, validating, evaluating and saving a neural network that classifies a real-world image into one of ten classes."
   ]
  },
  {
   "cell_type": "code",
   "execution_count": 2,
   "metadata": {},
   "outputs": [],
   "source": [
    "# Run this cell to load the dataset\n",
    "\n",
    "train = loadmat('data/train_32x32.mat')\n",
    "test = loadmat('data/test_32x32.mat')"
   ]
  },
  {
   "cell_type": "markdown",
   "metadata": {},
   "source": [
    "Both `train` and `test` are dictionaries with keys `X` and `y` for the input images and labels respectively."
   ]
  },
  {
   "cell_type": "markdown",
   "metadata": {},
   "source": [
    "## 1. Inspect and preprocess the dataset\n",
    "* Extract the training and testing images and labels separately from the train and test dictionaries loaded for you.\n",
    "* Select a random sample of images and corresponding labels from the dataset (at least 10), and display them in a figure.\n",
    "* Convert the training and test images to grayscale by taking the average across all colour channels for each pixel. _Hint: retain the channel dimension, which will now have size 1._\n",
    "* Select a random sample of the grayscale images and corresponding labels from the dataset (at least 10), and display them in a figure."
   ]
  },
  {
   "cell_type": "code",
   "execution_count": 3,
   "metadata": {},
   "outputs": [
    {
     "data": {
      "text/plain": [
       "(dict_keys(['__header__', '__version__', '__globals__', 'X', 'y']),\n",
       " dict_keys(['__header__', '__version__', '__globals__', 'X', 'y']))"
      ]
     },
     "execution_count": 3,
     "metadata": {},
     "output_type": "execute_result"
    }
   ],
   "source": [
    "train.keys(), test.keys() "
   ]
  },
  {
   "cell_type": "code",
   "execution_count": 4,
   "metadata": {},
   "outputs": [],
   "source": [
    "x_train, y_train = train['X'], train['y']\n",
    "x_test, y_test = test['X'], test['y']"
   ]
  },
  {
   "cell_type": "code",
   "execution_count": 5,
   "metadata": {},
   "outputs": [
    {
     "data": {
      "text/plain": [
       "((32, 32, 3, 73257), (73257, 1), (32, 32, 3, 26032), (26032, 1))"
      ]
     },
     "execution_count": 5,
     "metadata": {},
     "output_type": "execute_result"
    }
   ],
   "source": [
    "x_train.shape, y_train.shape, x_test.shape, y_test.shape"
   ]
  },
  {
   "cell_type": "markdown",
   "metadata": {},
   "source": [
    "Note: the num of training and etsting samples are at the 3 index, we need to move it."
   ]
  },
  {
   "cell_type": "code",
   "execution_count": 6,
   "metadata": {},
   "outputs": [
    {
     "data": {
      "text/plain": [
       "((73257, 32, 32, 3), (73257, 1), (26032, 32, 32, 3), (26032, 1))"
      ]
     },
     "execution_count": 6,
     "metadata": {},
     "output_type": "execute_result"
    }
   ],
   "source": [
    "import numpy as np\n",
    "x_train = np.moveaxis(x_train, -1, 0)\n",
    "x_test = np.moveaxis(x_test, -1 , 0)\n",
    "x_train.shape, y_train.shape, x_test.shape, y_test.shape"
   ]
  },
  {
   "cell_type": "code",
   "execution_count": 7,
   "metadata": {},
   "outputs": [
    {
     "data": {
      "text/plain": [
       "<Figure size 1000x100 with 10 Axes>"
      ]
     },
     "metadata": {},
     "output_type": "display_data"
    }
   ],
   "source": [
    "# Plot the first 10 SVHN images\n",
    "import matplotlib.pyplot as plt\n",
    "\n",
    "rand_ten_images = np.random.choice(x_train.shape[0], 10)\n",
    "\n",
    "fig, ax = plt.subplots(1, 10, figsize=(10, 1))\n",
    "# import pdb; pdb.set_trace()\n",
    "for i, idx in enumerate(rand_ten_images):\n",
    "    ax[i].set_axis_off()\n",
    "    ax[i].imshow(x_train[i])\n",
    "plt.show()"
   ]
  },
  {
   "cell_type": "code",
   "execution_count": 8,
   "metadata": {},
   "outputs": [
    {
     "data": {
      "image/png": "[encoded data removed]",
      "text/plain": [
       "<Figure size 720x72 with 10 Axes>"
      ]
     },
     "metadata": {
      "needs_background": "light"
     },
     "output_type": "display_data"
    }
   ],
   "source": [
    "# converting to grayscale\n",
    "x_train_grayscale = np.mean(x_train, 3)\n",
    "x_test_grayscale = np.mean(x_test,3)\n",
    "\n",
    "rand_ten_grayscale_images = np.random.choice(x_train_grayscale.shape[0], 10)\n",
    "\n",
    "fig, ax = plt.subplots(1, 10, figsize=(10, 1))\n",
    "# import pdb; pdb.set_trace()\n",
    "for i, idx in enumerate(rand_ten_grayscale_images):\n",
    "    ax[i].set_axis_off()\n",
    "    ax[i].imshow(x_train_grayscale[i], cmap='gray')\n",
    "plt.show()"
   ]
  },
  {
   "cell_type": "code",
   "execution_count": 9,
   "metadata": {},
   "outputs": [
    {
     "data": {
      "text/plain": [
       "((73257, 32, 32), 10)"
      ]
     },
     "execution_count": 9,
     "metadata": {},
     "output_type": "execute_result"
    }
   ],
   "source": [
    "x_train_grayscale.shape, len(rand_ten_grayscale_images)"
   ]
  },
  {
   "cell_type": "code",
   "execution_count": 10,
   "metadata": {},
   "outputs": [],
   "source": [
    "# we will need to one_hot_encode our labels, else when fitting with SCCE loss function, our lables will be out of range.\n",
    "# basically, converting the analog labels to categories\n",
    "from sklearn.preprocessing import OneHotEncoder\n",
    "\n",
    "enc = OneHotEncoder().fit(y_train)\n",
    "y_train = enc.transform(y_train).toarray()\n",
    "y_test = enc.transform(y_test).toarray()"
   ]
  },
  {
   "cell_type": "markdown",
   "metadata": {},
   "source": [
    "## 2. MLP neural network classifier\n",
    "* Build an MLP classifier model using the Sequential API. Your model should use only Flatten and Dense layers, with the final layer having a 10-way softmax output. \n",
    "* You should design and build the model yourself. Feel free to experiment with different MLP architectures. _Hint: to achieve a reasonable accuracy you won't need to use more than 4 or 5 layers._\n",
    "* Print out the model summary (using the summary() method)\n",
    "* Compile and train the model (we recommend a maximum of 30 epochs), making use of both training and validation sets during the training run. \n",
    "* Your model should track at least one appropriate metric, and use at least two callbacks during training, one of which should be a ModelCheckpoint callback.\n",
    "* As a guide, you should aim to achieve a final categorical cross entropy training loss of less than 1.0 (the validation loss might be higher).\n",
    "* Plot the learning curves for loss vs epoch and accuracy vs epoch for both training and validation sets.\n",
    "* Compute and display the loss and accuracy of the trained model on the test set."
   ]
  },
  {
   "cell_type": "code",
   "execution_count": 11,
   "metadata": {},
   "outputs": [],
   "source": [
    "from tensorflow.keras.models import Sequential\n",
    "from tensorflow.keras.layers import Dense, Flatten, Conv2D, MaxPooling2D\n",
    "from tensorflow.keras.callbacks import ModelCheckpoint, EarlyStopping\n",
    "\n",
    "def get_new_mlp_model(train_data):\n",
    "    model = Sequential([\n",
    "        Flatten(input_shape=train_data[0].shape),\n",
    "        Dense(512, activation='relu'), # key was to have significant perceptrons here, 256 and below did not perform well.\n",
    "        Dense(256, activation='relu'),\n",
    "        Dense(128, activation='relu'),\n",
    "        Dense(128, activation='relu'),\n",
    "        Dense(64, activation='relu'),\n",
    "        Dense(10, activation='softmax')\n",
    "    ])\n",
    "    model.compile(optimizer='adam', \n",
    "                  loss='categorical_crossentropy', \n",
    "                  metrics=['acc'])\n",
    "    return model"
   ]
  },
  {
   "cell_type": "code",
   "execution_count": 12,
   "metadata": {},
   "outputs": [
    {
     "name": "stdout",
     "output_type": "stream",
     "text": [
      "Model: \"sequential\"\n",
      "_________________________________________________________________\n",
      "Layer (type)                 Output Shape              Param #   \n",
      "=================================================================\n",
      "flatten (Flatten)            (None, 3072)              0         \n",
      "_________________________________________________________________\n",
      "dense (Dense)                (None, 512)               1573376   \n",
      "_________________________________________________________________\n",
      "dense_1 (Dense)              (None, 256)               131328    \n",
      "_________________________________________________________________\n",
      "dense_2 (Dense)              (None, 128)               32896     \n",
      "_________________________________________________________________\n",
      "dense_3 (Dense)              (None, 128)               16512     \n",
      "_________________________________________________________________\n",
      "dense_4 (Dense)              (None, 64)                8256      \n",
      "_________________________________________________________________\n",
      "dense_5 (Dense)              (None, 10)                650       \n",
      "=================================================================\n",
      "Total params: 1,763,018\n",
      "Trainable params: 1,763,018\n",
      "Non-trainable params: 0\n",
      "_________________________________________________________________\n"
     ]
    },
    {
     "data": {
      "text/plain": [
       "(1.0, 0.0, 1.0, 0.0)"
      ]
     },
     "execution_count": 12,
     "metadata": {},
     "output_type": "execute_result"
    }
   ],
   "source": [
    "# Create an instance of the model and show model summary\n",
    "model = get_new_mlp_model(x_train)\n",
    "model.summary()\n",
    "\n",
    "y_train.max(), y_train.min(), y_test.max(), y_test.min()"
   ]
  },
  {
   "cell_type": "code",
   "execution_count": 13,
   "metadata": {},
   "outputs": [],
   "source": [
    "def get_checkpoint_best_only():\n",
    "    return ModelCheckpoint(filepath='checkpoints_best_only/checkpoint', \n",
    "                            freuency='epoch', \n",
    "                            monitor='val_loss', \n",
    "                            save_weights_only=True, \n",
    "                            save_best_only=True, \n",
    "                            verbose=1)\n",
    "\n",
    "def get_early_stopping():\n",
    "    return EarlyStopping(monitor='loss', patience=3)\n",
    "\n",
    "checkpoint_best_only = get_checkpoint_best_only()\n",
    "early_stopping = get_early_stopping()\n",
    "\n",
    "callbacks = [checkpoint_best_only, early_stopping]"
   ]
  },
  {
   "cell_type": "code",
   "execution_count": 22,
   "metadata": {},
   "outputs": [
    {
     "name": "stdout",
     "output_type": "stream",
     "text": [
      "Train on 73257 samples, validate on 26032 samples\n",
      "Epoch 1/30\n",
      "73248/73257 [============================>.] - ETA: 0s - loss: 5.0882 - acc: 0.2287\n",
      "Epoch 00001: val_loss improved from inf to 1.83187, saving model to checkpoints_best_only/checkpoint\n",
      "73257/73257 [==============================] - 160s 2ms/sample - loss: 5.0878 - acc: 0.2287 - val_loss: 1.8319 - val_acc: 0.3869\n",
      "Epoch 2/30\n",
      "73248/73257 [============================>.] - ETA: 0s - loss: 1.5437 - acc: 0.4900\n",
      "Epoch 00002: val_loss improved from 1.83187 to 1.54222, saving model to checkpoints_best_only/checkpoint\n",
      "73257/73257 [==============================] - 168s 2ms/sample - loss: 1.5437 - acc: 0.4900 - val_loss: 1.5422 - val_acc: 0.5311\n",
      "Epoch 3/30\n",
      "73248/73257 [============================>.] - ETA: 0s - loss: 1.3450 - acc: 0.5687\n",
      "Epoch 00003: val_loss improved from 1.54222 to 1.37294, saving model to checkpoints_best_only/checkpoint\n",
      "73257/73257 [==============================] - 171s 2ms/sample - loss: 1.3451 - acc: 0.5687 - val_loss: 1.3729 - val_acc: 0.5827\n",
      "Epoch 4/30\n",
      "73248/73257 [============================>.] - ETA: 0s - loss: 1.2596 - acc: 0.6011\n",
      "Epoch 00004: val_loss did not improve from 1.37294\n",
      "73257/73257 [==============================] - 170s 2ms/sample - loss: 1.2596 - acc: 0.6011 - val_loss: 1.4052 - val_acc: 0.5797\n",
      "Epoch 5/30\n",
      "73248/73257 [============================>.] - ETA: 0s - loss: 1.1975 - acc: 0.6241\n",
      "Epoch 00005: val_loss did not improve from 1.37294\n",
      "73257/73257 [==============================] - 171s 2ms/sample - loss: 1.1976 - acc: 0.6241 - val_loss: 1.8167 - val_acc: 0.4750\n",
      "Epoch 6/30\n",
      "73216/73257 [============================>.] - ETA: 0s - loss: 1.1556 - acc: 0.6403\n",
      "Epoch 00006: val_loss improved from 1.37294 to 1.27434, saving model to checkpoints_best_only/checkpoint\n",
      "73257/73257 [==============================] - 171s 2ms/sample - loss: 1.1558 - acc: 0.6402 - val_loss: 1.2743 - val_acc: 0.6069\n",
      "Epoch 7/30\n",
      "73248/73257 [============================>.] - ETA: 0s - loss: 1.1076 - acc: 0.6563- E\n",
      "Epoch 00007: val_loss improved from 1.27434 to 1.20931, saving model to checkpoints_best_only/checkpoint\n",
      "73257/73257 [==============================] - 173s 2ms/sample - loss: 1.1075 - acc: 0.6563 - val_loss: 1.2093 - val_acc: 0.6366\n",
      "Epoch 8/30\n",
      "73248/73257 [============================>.] - ETA: 0s - loss: 1.0663 - acc: 0.671 - ETA: 0s - loss: 1.0662 - acc: 0.6712\n",
      "Epoch 00008: val_loss improved from 1.20931 to 1.16136, saving model to checkpoints_best_only/checkpoint\n",
      "73257/73257 [==============================] - 173s 2ms/sample - loss: 1.0662 - acc: 0.6712 - val_loss: 1.1614 - val_acc: 0.6524\n",
      "Epoch 9/30\n",
      "73248/73257 [============================>.] - ETA: 0s - loss: 1.0383 - acc: 0.6809\n",
      "Epoch 00009: val_loss improved from 1.16136 to 1.12046, saving model to checkpoints_best_only/checkpoint\n",
      "73257/73257 [==============================] - 171s 2ms/sample - loss: 1.0383 - acc: 0.6808 - val_loss: 1.1205 - val_acc: 0.6643\n",
      "Epoch 10/30\n",
      "73248/73257 [============================>.] - ETA: 0s - loss: 1.0079 - acc: 0.6916- ETA: 1s - loss: 1.0079\n",
      "Epoch 00010: val_loss did not improve from 1.12046\n",
      "73257/73257 [==============================] - 171s 2ms/sample - loss: 1.0080 - acc: 0.6916 - val_loss: 1.1313 - val_acc: 0.6621\n",
      "Epoch 11/30\n",
      "73248/73257 [============================>.] - ETA: 0s - loss: 0.9979 - acc: 0.6945\n",
      "Epoch 00011: val_loss did not improve from 1.12046\n",
      "73257/73257 [==============================] - 171s 2ms/sample - loss: 0.9979 - acc: 0.6945 - val_loss: 1.1977 - val_acc: 0.6354\n",
      "Epoch 12/30\n",
      "73216/73257 [============================>.] - ETA: 0s - loss: 0.9673 - acc: 0.7051\n",
      "Epoch 00012: val_loss improved from 1.12046 to 1.11878, saving model to checkpoints_best_only/checkpoint\n",
      "73257/73257 [==============================] - 171s 2ms/sample - loss: 0.9673 - acc: 0.7051 - val_loss: 1.1188 - val_acc: 0.6679\n",
      "Epoch 13/30\n",
      "73216/73257 [============================>.] - ETA: 0s - loss: 0.9613 - acc: 0.7083\n",
      "Epoch 00013: val_loss improved from 1.11878 to 1.09312, saving model to checkpoints_best_only/checkpoint\n",
      "73257/73257 [==============================] - 172s 2ms/sample - loss: 0.9614 - acc: 0.7083 - val_loss: 1.0931 - val_acc: 0.6728\n",
      "Epoch 14/30\n",
      "73216/73257 [============================>.] - ETA: 0s - loss: 0.9515 - acc: 0.7099\n",
      "Epoch 00014: val_loss improved from 1.09312 to 1.04509, saving model to checkpoints_best_only/checkpoint\n",
      "73257/73257 [==============================] - 172s 2ms/sample - loss: 0.9517 - acc: 0.7099 - val_loss: 1.0451 - val_acc: 0.6930\n",
      "Epoch 15/30\n",
      "73248/73257 [============================>.] - ETA: 0s - loss: 0.9285 - acc: 0.7176\n",
      "Epoch 00015: val_loss did not improve from 1.04509\n",
      "73257/73257 [==============================] - 170s 2ms/sample - loss: 0.9284 - acc: 0.7176 - val_loss: 1.1057 - val_acc: 0.6726\n",
      "Epoch 16/30\n",
      "73216/73257 [============================>.] - ETA: 0s - loss: 0.9368 - acc: 0.7140\n",
      "Epoch 00016: val_loss improved from 1.04509 to 1.04310, saving model to checkpoints_best_only/checkpoint\n",
      "73257/73257 [==============================] - 170s 2ms/sample - loss: 0.9369 - acc: 0.7140 - val_loss: 1.0431 - val_acc: 0.6966\n",
      "Epoch 17/30\n",
      "73216/73257 [============================>.] - ETA: 0s - loss: 0.9184 - acc: 0.7200- ETA: 2s -\n",
      "Epoch 00017: val_loss did not improve from 1.04310\n",
      "73257/73257 [==============================] - 172s 2ms/sample - loss: 0.9184 - acc: 0.7200 - val_loss: 1.0874 - val_acc: 0.6801\n",
      "Epoch 18/30\n",
      "73248/73257 [============================>.] - ETA: 0s - loss: 0.9119 - acc: 0.7212- ETA: 3s - loss: 0.9119  - ETA: 2s - lo\n",
      "Epoch 00018: val_loss did not improve from 1.04310\n",
      "73257/73257 [==============================] - 172s 2ms/sample - loss: 0.9119 - acc: 0.7212 - val_loss: 1.1306 - val_acc: 0.6684\n",
      "Epoch 19/30\n",
      "73248/73257 [============================>.] - ETA: 0s - loss: 0.9055 - acc: 0.7263\n",
      "Epoch 00019: val_loss did not improve from 1.04310\n",
      "73257/73257 [==============================] - 171s 2ms/sample - loss: 0.9055 - acc: 0.7263 - val_loss: 1.0859 - val_acc: 0.6809\n",
      "Epoch 20/30\n",
      "73248/73257 [============================>.] - ETA: 0s - loss: 0.9014 - acc: 0.7272\n",
      "Epoch 00020: val_loss did not improve from 1.04310\n",
      "73257/73257 [==============================] - 174s 2ms/sample - loss: 0.9014 - acc: 0.7272 - val_loss: 1.0815 - val_acc: 0.6848\n",
      "Epoch 21/30\n",
      "73216/73257 [============================>.] - ETA: 0s - loss: 0.9003 - acc: 0.7257\n",
      "Epoch 00021: val_loss improved from 1.04310 to 0.97843, saving model to checkpoints_best_only/checkpoint\n",
      "73257/73257 [==============================] - 174s 2ms/sample - loss: 0.9003 - acc: 0.7257 - val_loss: 0.9784 - val_acc: 0.7107\n",
      "Epoch 22/30\n",
      "73248/73257 [============================>.] - ETA: 0s - loss: 0.8918 - acc: 0.7306\n",
      "Epoch 00022: val_loss did not improve from 0.97843\n",
      "73257/73257 [==============================] - 170s 2ms/sample - loss: 0.8919 - acc: 0.7306 - val_loss: 1.0407 - val_acc: 0.6943\n",
      "Epoch 23/30\n",
      "73248/73257 [============================>.] - ETA: 0s - loss: 0.8882 - acc: 0.7305\n",
      "Epoch 00023: val_loss did not improve from 0.97843\n",
      "73257/73257 [==============================] - 170s 2ms/sample - loss: 0.8882 - acc: 0.7305 - val_loss: 0.9964 - val_acc: 0.7087\n",
      "Epoch 24/30\n",
      "73248/73257 [============================>.] - ETA: 0s - loss: 0.8891 - acc: 0.7308\n",
      "Epoch 00024: val_loss did not improve from 0.97843\n",
      "73257/73257 [==============================] - 171s 2ms/sample - loss: 0.8892 - acc: 0.7308 - val_loss: 1.0079 - val_acc: 0.7069\n",
      "Epoch 25/30\n",
      "73248/73257 [============================>.] - ETA: 0s - loss: 0.8895 - acc: 0.7304- ETA: 2s - loss: 0\n",
      "Epoch 00025: val_loss did not improve from 0.97843\n",
      "73257/73257 [==============================] - 171s 2ms/sample - loss: 0.8895 - acc: 0.7304 - val_loss: 0.9974 - val_acc: 0.7078\n",
      "Epoch 26/30\n",
      "73216/73257 [============================>.] - ETA: 0s - loss: 0.8796 - acc: 0.7346\n",
      "Epoch 00026: val_loss did not improve from 0.97843\n",
      "73257/73257 [==============================] - 171s 2ms/sample - loss: 0.8797 - acc: 0.7345 - val_loss: 1.0501 - val_acc: 0.7004\n",
      "Epoch 27/30\n",
      "73216/73257 [============================>.] - ETA: 0s - loss: 0.8814 - acc: 0.7358- ETA: 2s - l\n",
      "Epoch 00027: val_loss did not improve from 0.97843\n",
      "73257/73257 [==============================] - 170s 2ms/sample - loss: 0.8814 - acc: 0.7358 - val_loss: 1.0989 - val_acc: 0.6813\n",
      "Epoch 28/30\n",
      "73248/73257 [============================>.] - ETA: 0s - loss: 0.8778 - acc: 0.7354\n",
      "Epoch 00028: val_loss did not improve from 0.97843\n",
      "73257/73257 [==============================] - 171s 2ms/sample - loss: 0.8779 - acc: 0.7354 - val_loss: 1.0736 - val_acc: 0.6890\n",
      "Epoch 29/30\n",
      "73248/73257 [============================>.] - ETA: 0s - loss: 0.8786 - acc: 0.7353- ETA: 0s - loss: 0.8784 - ac\n",
      "Epoch 00029: val_loss did not improve from 0.97843\n",
      "73257/73257 [==============================] - 170s 2ms/sample - loss: 0.8786 - acc: 0.7353 - val_loss: 1.1109 - val_acc: 0.6856\n",
      "Epoch 30/30\n",
      "73216/73257 [============================>.] - ETA: 0s - loss: 0.8608 - acc: 0.7389\n",
      "Epoch 00030: val_loss did not improve from 0.97843\n",
      "73257/73257 [==============================] - 172s 2ms/sample - loss: 0.8606 - acc: 0.7389 - val_loss: 1.1073 - val_acc: 0.6716\n"
     ]
    }
   ],
   "source": [
    "# Train model using the callbacks with early stopping and best loss\n",
    "\n",
    "history = model.fit(x_train, \n",
    "                    y_train, \n",
    "                    epochs=30, \n",
    "                    validation_data=(x_test, y_test), \n",
    "                    callbacks=callbacks)"
   ]
  },
  {
   "cell_type": "code",
   "execution_count": 43,
   "metadata": {},
   "outputs": [
    {
     "name": "stdout",
     "output_type": "stream",
     "text": [
      "total 104K\n",
      "-rwxrwxrwx 1 nobody nogroup  89K Mar 15 23:15 'Capstone Project.ipynb'\n",
      "drwxr-xr-x 2 jovyan users   6.0K Mar 15 20:46  checkpoints_best_only\n",
      "drwxr-xr-x 2 jovyan users   6.0K Mar 15 22:40  checkpoints_best_only_cnn\n",
      "drwxrwxrwx 2 nobody nogroup 6.0K Feb  2 00:54  data\n"
     ]
    }
   ],
   "source": [
    "! ls -lh"
   ]
  },
  {
   "cell_type": "code",
   "execution_count": 16,
   "metadata": {},
   "outputs": [
    {
     "ename": "NameError",
     "evalue": "name 'history' is not defined",
     "output_type": "error",
     "traceback": [
      "\u001b[0;31m---------------------------------------------------------------------------\u001b[0m",
      "\u001b[0;31mNameError\u001b[0m                                 Traceback (most recent call last)",
      "\u001b[0;32m<ipython-input-16-47ceffa17723>\u001b[0m in \u001b[0;36m<module>\u001b[0;34m\u001b[0m\n\u001b[1;32m      2\u001b[0m \u001b[0;32mimport\u001b[0m \u001b[0mpandas\u001b[0m \u001b[0;32mas\u001b[0m \u001b[0mpd\u001b[0m\u001b[0;34m\u001b[0m\u001b[0;34m\u001b[0m\u001b[0m\n\u001b[1;32m      3\u001b[0m \u001b[0;34m\u001b[0m\u001b[0m\n\u001b[0;32m----> 4\u001b[0;31m \u001b[0mdf\u001b[0m \u001b[0;34m=\u001b[0m \u001b[0mpd\u001b[0m\u001b[0;34m.\u001b[0m\u001b[0mDataFrame\u001b[0m\u001b[0;34m(\u001b[0m\u001b[0mhistory\u001b[0m\u001b[0;34m.\u001b[0m\u001b[0mhistory\u001b[0m\u001b[0;34m)\u001b[0m\u001b[0;34m\u001b[0m\u001b[0;34m\u001b[0m\u001b[0m\n\u001b[0m\u001b[1;32m      5\u001b[0m \u001b[0mdf\u001b[0m\u001b[0;34m.\u001b[0m\u001b[0mplot\u001b[0m\u001b[0;34m(\u001b[0m\u001b[0my\u001b[0m\u001b[0;34m=\u001b[0m\u001b[0;34m[\u001b[0m\u001b[0;34m'val_loss'\u001b[0m\u001b[0;34m]\u001b[0m\u001b[0;34m)\u001b[0m \u001b[0;31m# plot loss vs epochs\u001b[0m\u001b[0;34m\u001b[0m\u001b[0;34m\u001b[0m\u001b[0m\n",
      "\u001b[0;31mNameError\u001b[0m: name 'history' is not defined"
     ]
    }
   ],
   "source": [
    "# Plot training and testing curves\n",
    "import pandas as pd\n",
    "\n",
    "df = pd.DataFrame(history.history)\n",
    "df.plot(y=['val_loss']) # plot loss vs epochs"
   ]
  },
  {
   "cell_type": "code",
   "execution_count": 25,
   "metadata": {},
   "outputs": [
    {
     "data": {
      "text/plain": [
       "<matplotlib.axes._subplots.AxesSubplot at 0x7f7da91d0e10>"
      ]
     },
     "execution_count": 25,
     "metadata": {},
     "output_type": "execute_result"
    },
    {
     "data": {
      "image/png": "[encoded data removed]",
      "text/plain": [
       "<Figure size 432x288 with 1 Axes>"
      ]
     },
     "metadata": {
      "needs_background": "light"
     },
     "output_type": "display_data"
    }
   ],
   "source": [
    "df.plot(y=['acc']) # plot acc vs epochs"
   ]
  },
  {
   "cell_type": "markdown",
   "metadata": {},
   "source": [
    "## 3. CNN neural network classifier\n",
    "* Build a CNN classifier model using the Sequential API. Your model should use the Conv2D, MaxPool2D, BatchNormalization, Flatten, Dense and Dropout layers. The final layer should again have a 10-way softmax output. \n",
    "* You should design and build the model yourself. Feel free to experiment with different CNN architectures. _Hint: to achieve a reasonable accuracy you won't need to use more than 2 or 3 convolutional layers and 2 fully connected layers.)_\n",
    "* The CNN model should use fewer trainable parameters than your MLP model.\n",
    "* Compile and train the model (we recommend a maximum of 30 epochs), making use of both training and validation sets during the training run.\n",
    "* Your model should track at least one appropriate metric, and use at least two callbacks during training, one of which should be a ModelCheckpoint callback.\n",
    "* You should aim to beat the MLP model performance with fewer parameters!\n",
    "* Plot the learning curves for loss vs epoch and accuracy vs epoch for both training and validation sets.\n",
    "* Compute and display the loss and accuracy of the trained model on the test set."
   ]
  },
  {
   "cell_type": "code",
   "execution_count": 14,
   "metadata": {},
   "outputs": [],
   "source": [
    "from tensorflow.keras.layers import Conv2D, Flatten, BatchNormalization, MaxPool2D, Dense\n",
    "\n",
    "def get_new_cnn_model():\n",
    "    model = Sequential([\n",
    "        Conv2D(filters=16, input_shape=(32, 32, 3), kernel_size=(3, 3), \n",
    "               activation='relu', name='conv_1'),\n",
    "        Conv2D(filters=8, kernel_size=(3, 3), activation='relu', name='conv_2'),\n",
    "        MaxPooling2D(pool_size=(4, 4), name='pool_1'),\n",
    "        BatchNormalization(),\n",
    "        Flatten(name='flatten'),\n",
    "        Dense(units=32, activation='relu', name='dense_1'),\n",
    "        tf.keras.layers.Dropout(0.3),\n",
    "        Dense(units=10, activation='softmax', name='dense_2')\n",
    "    ])\n",
    "    model.compile(optimizer='adam',\n",
    "                  loss='categorical_crossentropy',\n",
    "                  metrics=['accuracy'])\n",
    "    return model"
   ]
  },
  {
   "cell_type": "code",
   "execution_count": 15,
   "metadata": {},
   "outputs": [
    {
     "name": "stdout",
     "output_type": "stream",
     "text": [
      "Model: \"sequential_1\"\n",
      "_________________________________________________________________\n",
      "Layer (type)                 Output Shape              Param #   \n",
      "=================================================================\n",
      "conv_1 (Conv2D)              (None, 30, 30, 16)        448       \n",
      "_________________________________________________________________\n",
      "conv_2 (Conv2D)              (None, 28, 28, 8)         1160      \n",
      "_________________________________________________________________\n",
      "pool_1 (MaxPooling2D)        (None, 7, 7, 8)           0         \n",
      "_________________________________________________________________\n",
      "batch_normalization (BatchNo (None, 7, 7, 8)           32        \n",
      "_________________________________________________________________\n",
      "flatten (Flatten)            (None, 392)               0         \n",
      "_________________________________________________________________\n",
      "dense_1 (Dense)              (None, 32)                12576     \n",
      "_________________________________________________________________\n",
      "dropout (Dropout)            (None, 32)                0         \n",
      "_________________________________________________________________\n",
      "dense_2 (Dense)              (None, 10)                330       \n",
      "=================================================================\n",
      "Total params: 14,546\n",
      "Trainable params: 14,530\n",
      "Non-trainable params: 16\n",
      "_________________________________________________________________\n"
     ]
    }
   ],
   "source": [
    "model_cnn = get_new_cnn_model()\n",
    "model_cnn.summary()"
   ]
  },
  {
   "cell_type": "code",
   "execution_count": 16,
   "metadata": {},
   "outputs": [],
   "source": [
    "def get_checkpoint_best_only():\n",
    "    return ModelCheckpoint(filepath='checkpoints_best_only_cnn/checkpoint', \n",
    "                            freuency='epoch', \n",
    "                            monitor='val_loss', \n",
    "                            save_weights_only=True, \n",
    "                            save_best_only=True, \n",
    "                            verbose=1)\n",
    "\n",
    "def get_early_stopping():\n",
    "    return EarlyStopping(monitor='loss', patience=3)\n",
    "\n",
    "checkpoint_best_only = get_checkpoint_best_only()\n",
    "early_stopping = get_early_stopping()\n",
    "\n",
    "callbacks = [checkpoint_best_only, early_stopping]"
   ]
  },
  {
   "cell_type": "code",
   "execution_count": null,
   "metadata": {},
   "outputs": [
    {
     "name": "stdout",
     "output_type": "stream",
     "text": [
      "Train on 73257 samples, validate on 26032 samples\n",
      "Epoch 1/30\n",
      "73248/73257 [============================>.] - ETA: 0s - loss: 1.2362 - accuracy: 0.5904\n",
      "Epoch 00001: val_loss improved from inf to 0.79050, saving model to checkpoints_best_only_cnn/checkpoint\n",
      "73257/73257 [==============================] - 421s 6ms/sample - loss: 1.2361 - accuracy: 0.5905 - val_loss: 0.7905 - val_accuracy: 0.7664\n",
      "Epoch 2/30\n",
      "73248/73257 [============================>.] - ETA: 0s - loss: 0.7585 - accuracy: 0.7605\n",
      "Epoch 00002: val_loss improved from 0.79050 to 0.72626, saving model to checkpoints_best_only_cnn/checkpoint\n",
      "73257/73257 [==============================] - 411s 6ms/sample - loss: 0.7585 - accuracy: 0.7605 - val_loss: 0.7263 - val_accuracy: 0.7889\n",
      "Epoch 3/30\n",
      "73248/73257 [============================>.] - ETA: 0s - loss: 0.6886 - accuracy: 0.7845\n",
      "Epoch 00003: val_loss improved from 0.72626 to 0.62982, saving model to checkpoints_best_only_cnn/checkpoint\n",
      "73257/73257 [==============================] - 409s 6ms/sample - loss: 0.6886 - accuracy: 0.7845 - val_loss: 0.6298 - val_accuracy: 0.8169\n",
      "Epoch 4/30\n",
      "73248/73257 [============================>.] - ETA: 0s - loss: 0.6523 - accuracy: 0.7966\n",
      "Epoch 00004: val_loss improved from 0.62982 to 0.58450, saving model to checkpoints_best_only_cnn/checkpoint\n",
      "73257/73257 [==============================] - 394s 5ms/sample - loss: 0.6522 - accuracy: 0.7966 - val_loss: 0.5845 - val_accuracy: 0.8326\n",
      "Epoch 5/30\n",
      "73248/73257 [============================>.] - ETA: 0s - loss: 0.6308 - accuracy: 0.8037\n",
      "Epoch 00005: val_loss improved from 0.58450 to 0.55453, saving model to checkpoints_best_only_cnn/checkpoint\n",
      "73257/73257 [==============================] - 405s 6ms/sample - loss: 0.6309 - accuracy: 0.8037 - val_loss: 0.5545 - val_accuracy: 0.8378\n",
      "Epoch 6/30\n",
      "73248/73257 [============================>.] - ETA: 0s - loss: 0.6058 - accuracy: 0.8124\n",
      "Epoch 00006: val_loss did not improve from 0.55453\n",
      "73257/73257 [==============================] - 406s 6ms/sample - loss: 0.6058 - accuracy: 0.8124 - val_loss: 0.5645 - val_accuracy: 0.8333\n",
      "Epoch 7/30\n",
      "73248/73257 [============================>.] - ETA: 0s - loss: 0.5930 - accuracy: 0.8136\n",
      "Epoch 00007: val_loss improved from 0.55453 to 0.53697, saving model to checkpoints_best_only_cnn/checkpoint\n",
      "73257/73257 [==============================] - 409s 6ms/sample - loss: 0.5929 - accuracy: 0.8137 - val_loss: 0.5370 - val_accuracy: 0.8443\n",
      "Epoch 8/30\n",
      "73248/73257 [============================>.] - ETA: 0s - loss: 0.5830 - accuracy: 0.8176\n",
      "Epoch 00008: val_loss did not improve from 0.53697\n",
      "73257/73257 [==============================] - 410s 6ms/sample - loss: 0.5830 - accuracy: 0.8176 - val_loss: 0.5589 - val_accuracy: 0.8356\n",
      "Epoch 9/30\n",
      "73248/73257 [============================>.] - ETA: 0s - loss: 0.5709 - accuracy: 0.8214\n",
      "Epoch 00009: val_loss did not improve from 0.53697\n",
      "73257/73257 [==============================] - 407s 6ms/sample - loss: 0.5709 - accuracy: 0.8214 - val_loss: 0.5558 - val_accuracy: 0.8362\n",
      "Epoch 10/30\n",
      "73248/73257 [============================>.] - ETA: 0s - loss: 0.5712 - accuracy: 0.8214\n",
      "Epoch 00010: val_loss did not improve from 0.53697\n",
      "73257/73257 [==============================] - 404s 6ms/sample - loss: 0.5711 - accuracy: 0.8215 - val_loss: 0.5657 - val_accuracy: 0.8296\n",
      "Epoch 11/30\n",
      "73248/73257 [============================>.] - ETA: 0s - loss: 0.5597 - accuracy: 0.8245\n",
      "Epoch 00011: val_loss did not improve from 0.53697\n",
      "73257/73257 [==============================] - 401s 5ms/sample - loss: 0.5597 - accuracy: 0.8245 - val_loss: 0.5404 - val_accuracy: 0.8394\n",
      "Epoch 12/30\n",
      "73248/73257 [============================>.] - ETA: 0s - loss: 0.5549 - accuracy: 0.8261\n",
      "Epoch 00012: val_loss improved from 0.53697 to 0.52668, saving model to checkpoints_best_only_cnn/checkpoint\n",
      "73257/73257 [==============================] - 404s 6ms/sample - loss: 0.5549 - accuracy: 0.8261 - val_loss: 0.5267 - val_accuracy: 0.8452\n",
      "Epoch 13/30\n",
      "73248/73257 [============================>.] - ETA: 0s - loss: 0.5478 - accuracy: 0.8275\n",
      "Epoch 00013: val_loss improved from 0.52668 to 0.50784, saving model to checkpoints_best_only_cnn/checkpoint\n",
      "73257/73257 [==============================] - 405s 6ms/sample - loss: 0.5478 - accuracy: 0.8275 - val_loss: 0.5078 - val_accuracy: 0.8526\n",
      "Epoch 14/30\n",
      "73248/73257 [============================>.] - ETA: 0s - loss: 0.5508 - accuracy: 0.8265\n",
      "Epoch 00014: val_loss did not improve from 0.50784\n",
      "73257/73257 [==============================] - 404s 6ms/sample - loss: 0.5508 - accuracy: 0.8265 - val_loss: 0.5389 - val_accuracy: 0.8413\n",
      "Epoch 15/30\n",
      "73248/73257 [============================>.] - ETA: 0s - loss: 0.5423 - accuracy: 0.8293\n",
      "Epoch 00015: val_loss did not improve from 0.50784\n",
      "73257/73257 [==============================] - 400s 5ms/sample - loss: 0.5423 - accuracy: 0.8292 - val_loss: 0.5158 - val_accuracy: 0.8485\n",
      "Epoch 16/30\n",
      "73248/73257 [============================>.] - ETA: 0s - loss: 0.5386 - accuracy: 0.8301\n",
      "Epoch 00016: val_loss did not improve from 0.50784\n",
      "73257/73257 [==============================] - 402s 5ms/sample - loss: 0.5386 - accuracy: 0.8301 - val_loss: 0.5146 - val_accuracy: 0.8485\n",
      "Epoch 17/30\n",
      "73248/73257 [============================>.] - ETA: 0s - loss: 0.5360 - accuracy: 0.8330\n",
      "Epoch 00017: val_loss did not improve from 0.50784\n",
      "73257/73257 [==============================] - 416s 6ms/sample - loss: 0.5360 - accuracy: 0.8330 - val_loss: 0.5197 - val_accuracy: 0.8460\n",
      "Epoch 18/30\n",
      "41056/73257 [===============>..............] - ETA: 2:42 - loss: 0.5257 - accuracy: 0.8347"
     ]
    }
   ],
   "source": [
    "# Train model using the callbacks with early stopping and best loss\n",
    "\n",
    "history_cnn = model_cnn.fit(x_train, \n",
    "                    y_train, \n",
    "                    epochs=30, \n",
    "                    validation_data=(x_test, y_test), \n",
    "                    callbacks=callbacks)"
   ]
  },
  {
   "cell_type": "code",
   "execution_count": 47,
   "metadata": {},
   "outputs": [
    {
     "name": "stdout",
     "output_type": "stream",
     "text": [
      "total 104K\r\n",
      "-rwxrwxrwx 1 nobody nogroup  89K Mar 15 23:15 'Capstone Project.ipynb'\r\n",
      "drwxr-xr-x 2 jovyan users   6.0K Mar 15 20:46  checkpoints_best_only\r\n",
      "drwxr-xr-x 2 jovyan users   6.0K Mar 15 22:40  checkpoints_best_only_cnn\r\n",
      "drwxrwxrwx 2 nobody nogroup 6.0K Feb  2 00:54  data\r\n"
     ]
    }
   ],
   "source": [
    "! ls -lh"
   ]
  },
  {
   "cell_type": "markdown",
   "metadata": {},
   "source": [
    "## 4. Get model predictions\n",
    "* Load the best weights for the MLP and CNN models that you saved during the training run.\n",
    "* Randomly select 5 images and corresponding labels from the test set and display the images with their labels.\n",
    "* Alongside the image and label, show each model’s predictive distribution as a bar chart, and the final model prediction given by the label with maximum probability."
   ]
  },
  {
   "cell_type": "code",
   "execution_count": 52,
   "metadata": {},
   "outputs": [
    {
     "name": "stdout",
     "output_type": "stream",
     "text": [
      "total 20676\r\n",
      "-rw-r--r-- 1 jovyan users 21161421 Mar 15 20:46 checkpoint.data-00000-of-00001\r\n",
      "-rw-r--r-- 1 jovyan users     2871 Mar 15 20:46 checkpoint.index\r\n",
      "-rw-r--r-- 1 jovyan users       77 Mar 15 20:46 checkpoint\r\n"
     ]
    }
   ],
   "source": [
    "# load weights for both MLP and CNN\n",
    "!ls -ltr checkpoints_best_only"
   ]
  },
  {
   "cell_type": "code",
   "execution_count": 53,
   "metadata": {},
   "outputs": [
    {
     "name": "stdout",
     "output_type": "stream",
     "text": [
      "total 184\r\n",
      "-rw-r--r-- 1 jovyan users 179263 Mar 15 22:40 checkpoint.data-00000-of-00001\r\n",
      "-rw-r--r-- 1 jovyan users   2543 Mar 15 22:40 checkpoint.index\r\n",
      "-rw-r--r-- 1 jovyan users     77 Mar 15 22:40 checkpoint\r\n"
     ]
    }
   ],
   "source": [
    "!ls -ltr checkpoints_best_only_cnn"
   ]
  },
  {
   "cell_type": "code",
   "execution_count": 17,
   "metadata": {},
   "outputs": [],
   "source": [
    "from tensorflow.keras.models import load_model"
   ]
  },
  {
   "cell_type": "code",
   "execution_count": 18,
   "metadata": {},
   "outputs": [],
   "source": [
    "def load_models(model1, path1, model2, path2):\n",
    "    model1.load_weights(path1)\n",
    "    model2.load_weights(path2)\n",
    "    return model1, model2"
   ]
  },
  {
   "cell_type": "code",
   "execution_count": 19,
   "metadata": {},
   "outputs": [
    {
     "data": {
      "image/png": "[encoded data removed]",
      "text/plain": [
       "<Figure size 720x72 with 5 Axes>"
      ]
     },
     "metadata": {
      "needs_background": "light"
     },
     "output_type": "display_data"
    }
   ],
   "source": [
    "model_mlp, model_cnn = load_models(get_new_mlp_model(x_train), 'checkpoints_best_only/checkpoint', get_new_cnn_model(), 'checkpoints_best_only_cnn/checkpoint')\n",
    "# randomly selecting 5 images and lables from test set.\n",
    "rand_five_images_test = np.random.choice(x_test.shape[0], 5)\n",
    "\n",
    "fig, ax = plt.subplots(1, 5, figsize=(10, 1))\n",
    "# import pdb; pdb.set_trace()\n",
    "for i, idx in enumerate(rand_five_images_test):\n",
    "    ax[i].imshow(x_train[i])\n",
    "plt.show()"
   ]
  },
  {
   "cell_type": "code",
   "execution_count": 20,
   "metadata": {},
   "outputs": [
    {
     "name": "stdout",
     "output_type": "stream",
     "text": [
      "(5, 32, 32, 3)\n",
      "MLP predictions on 5 Random Test set images\n"
     ]
    },
    {
     "data": {
      "image/png": "[encoded data removed]",
      "text/plain": [
       "<Figure size 1296x864 with 5 Axes>"
      ]
     },
     "metadata": {
      "needs_background": "light"
     },
     "output_type": "display_data"
    }
   ],
   "source": [
    "rand_test_imgs = x_test[rand_five_images_test, ...]\n",
    "rand_test_targets = y_test[rand_five_images_test, ...]\n",
    "\n",
    "mlp_pred = model_mlp.predict(rand_test_imgs)\n",
    "print(rand_test_imgs.shape) # note, predict expects a 4th dim for batch size.\n",
    "\n",
    "digit_map = {\n",
    "    '0': 1,\n",
    "    '1': 2,\n",
    "    '2': 3,\n",
    "    '3': 4,\n",
    "    '4': 5,\n",
    "    '5': 6,\n",
    "    '6': 7,\n",
    "    '7': 8,\n",
    "    '8': 9,\n",
    "    '9': 0\n",
    "}\n",
    "# np.argmax(rand_test_targets[0])\n",
    "fig, axes = plt.subplots(1, 5, figsize=(18, 12))\n",
    "fig.subplots_adjust(hspace=0.5, wspace=0.4)\n",
    "print(f'MLP predictions on 5 Random Test set images')\n",
    "for i, (p, img, target) in enumerate(zip(mlp_pred, rand_test_imgs, rand_test_targets)):\n",
    "    axes[i].imshow(img)\n",
    "    axes[i].text(8, -2, f'Predict: {digit_map[str(np.argmax(p))]} Gnd_Truth: {digit_map[str(np.argmax(target))]}')"
   ]
  },
  {
   "cell_type": "code",
   "execution_count": 32,
   "metadata": {},
   "outputs": [
    {
     "name": "stdout",
     "output_type": "stream",
     "text": [
      "Distribution for MLP model\n"
     ]
    },
    {
     "data": {
      "text/plain": [
       "(array([5978., 4499., 2292., 2993., 2184., 2398., 1620., 1050., 1525.,\n",
       "        1493.]),\n",
       " array([0. , 0.9, 1.8, 2.7, 3.6, 4.5, 5.4, 6.3, 7.2, 8.1, 9. ]),\n",
       " <a list of 10 Patch objects>)"
      ]
     },
     "execution_count": 32,
     "metadata": {},
     "output_type": "execute_result"
    },
    {
     "data": {
      "image/png": "[encoded data removed]",
      "text/plain": [
       "<Figure size 432x288 with 1 Axes>"
      ]
     },
     "metadata": {
      "needs_background": "light"
     },
     "output_type": "display_data"
    }
   ],
   "source": [
    "# all predictions made by model_mlp\n",
    "preds = [np.argmax(p) for p in model_mlp.predict(x_test)]\n",
    "fig = plt.figure()\n",
    "ax = fig.add_axes([0,0,1,1])\n",
    "print(f'Distribution for MLP model')\n",
    "ax.hist(preds) "
   ]
  },
  {
   "cell_type": "markdown",
   "metadata": {},
   "source": [
    "Predicted many 0s and 1s."
   ]
  },
  {
   "cell_type": "code",
   "execution_count": 36,
   "metadata": {},
   "outputs": [
    {
     "name": "stdout",
     "output_type": "stream",
     "text": [
      "(5, 32, 32, 3)\n",
      "CNN predictions on 5 Random Test set images\n"
     ]
    },
    {
     "data": {
      "image/png": "[encoded data removed]",
      "text/plain": [
       "<Figure size 1296x864 with 5 Axes>"
      ]
     },
     "metadata": {
      "needs_background": "light"
     },
     "output_type": "display_data"
    }
   ],
   "source": [
    "cnn_pred = model_cnn.predict(rand_test_imgs.astype('float32')) # would error out if did not cast to float32, originally uint8\n",
    "\n",
    "print(rand_test_imgs.shape) # note, predict expects a 4th dim for batch size.\n",
    "\n",
    "# np.argmax(rand_test_targets[0])\n",
    "fig, axes = plt.subplots(1, 5, figsize=(18, 12))\n",
    "fig.subplots_adjust(hspace=0.5, wspace=0.4)\n",
    "print(f'CNN predictions on 5 Random Test set images')\n",
    "for i, (p, img, target) in enumerate(zip(mlp_pred, rand_test_imgs, rand_test_targets)):\n",
    "    axes[i].imshow(img)\n",
    "    axes[i].text(8, -2, f'Predict: {digit_map[str(np.argmax(p))]} Gnd_Truth: {digit_map[str(np.argmax(target))]}')"
   ]
  },
  {
   "cell_type": "code",
   "execution_count": 35,
   "metadata": {},
   "outputs": [
    {
     "name": "stdout",
     "output_type": "stream",
     "text": [
      "Distribution for CNN model\n"
     ]
    },
    {
     "data": {
      "text/plain": [
       "(array([5406., 4231., 2744., 2499., 2400., 2046., 1907., 1416., 1743.,\n",
       "        1640.]),\n",
       " array([0. , 0.9, 1.8, 2.7, 3.6, 4.5, 5.4, 6.3, 7.2, 8.1, 9. ]),\n",
       " <a list of 10 Patch objects>)"
      ]
     },
     "execution_count": 35,
     "metadata": {},
     "output_type": "execute_result"
    },
    {
     "data": {
      "image/png": "[encoded data removed]",
      "text/plain": [
       "<Figure size 432x288 with 1 Axes>"
      ]
     },
     "metadata": {
      "needs_background": "light"
     },
     "output_type": "display_data"
    }
   ],
   "source": [
    "# all predictions made by model_mlp\n",
    "preds_cnn = [np.argmax(p) for p in model_cnn.predict(x_test.astype('float32'))]\n",
    "fig = plt.figure()\n",
    "ax = fig.add_axes([0,0,1,1])\n",
    "print(f'Distribution for CNN model')\n",
    "ax.hist(preds_cnn)"
   ]
  },
  {
   "cell_type": "markdown",
   "metadata": {},
   "source": [
    "Predicted many 0s and 1s - similar to the MLP mdoel. Although, the 2 - 9 seem more smooth in distribtion compared to that of the mlp. Overall, right skewed."
   ]
  },
  {
   "cell_type": "code",
   "execution_count": null,
   "metadata": {},
   "outputs": [],
   "source": []
  }
 ],
 "metadata": {
  "kernelspec": {
   "display_name": "Python 3",
   "language": "python",
   "name": "python3"
  },
  "language_info": {
   "codemirror_mode": {
    "name": "ipython",
    "version": 3
   },
   "file_extension": ".py",
   "mimetype": "text/x-python",
   "name": "python",
   "nbconvert_exporter": "python",
   "pygments_lexer": "ipython3",
   "version": "3.7.1"
  }
 },
 "nbformat": 4,
 "nbformat_minor": 2
}
